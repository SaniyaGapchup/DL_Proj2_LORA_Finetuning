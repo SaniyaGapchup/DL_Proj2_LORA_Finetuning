{
 "cells": [
  {
   "cell_type": "code",
   "execution_count": 2,
   "id": "62edea33-3d78-4131-b87f-6cb409ec743b",
   "metadata": {},
   "outputs": [],
   "source": [
    "# Imports\n",
    "import os\n",
    "import pandas as pd\n",
    "import torch\n",
    "from transformers import RobertaModel, RobertaTokenizer, TrainingArguments, Trainer, DataCollatorWithPadding, RobertaForSequenceClassification\n",
    "from peft import LoraConfig, get_peft_model, PeftModel\n",
    "from datasets import load_dataset, Dataset, ClassLabel\n",
    "import pickle\n",
    "import gc\n",
    "import torch.utils.data as data_utils\n",
    "from sklearn.metrics import accuracy_score\n",
    "import evaluate\n",
    "from tqdm.notebook import tqdm\n",
    "from torch.utils.data import DataLoader\n",
    "import numpy as np\n",
    "import matplotlib.pyplot as plt"
   ]
  },
  {
   "cell_type": "code",
   "execution_count": 3,
   "id": "fa1ad94b-091b-45bf-b78c-5088b177970f",
   "metadata": {},
   "outputs": [
    {
     "name": "stdout",
     "output_type": "stream",
     "text": [
      "Output directory set to: roberta_agnews_finetuned\n",
      "Unlabelled data path: test_unlabelled.pkl\n"
     ]
    }
   ],
   "source": [
    "# Configuration\n",
    "base_model = 'roberta-base'\n",
    "fixed_rank = 4 # LoRA rank\n",
    "fixed_alpha_scale = 1\n",
    "fixed_alpha = fixed_rank * fixed_alpha_scale # LoRA alpha\n",
    "\n",
    "output_directory = \"roberta_agnews_finetuned\"\n",
    "current_output_dir = output_directory\n",
    "unlabelled_data_path = \"test_unlabelled.pkl\" \n",
    "\n",
    "os.makedirs(current_output_dir, exist_ok=True)\n",
    "print(f\"Output directory set to: {current_output_dir}\")\n",
    "print(f\"Unlabelled data path: {unlabelled_data_path}\")"
   ]
  },
  {
   "cell_type": "code",
   "execution_count": 4,
   "id": "f23048af-fd84-4562-85ae-da18beebb7a0",
   "metadata": {},
   "outputs": [
    {
     "name": "stdout",
     "output_type": "stream",
     "text": [
      "Loading AG News dataset and RoBERTa tokenizer...\n"
     ]
    },
    {
     "data": {
      "application/vnd.jupyter.widget-view+json": {
       "model_id": "2f5825fd7b8849ccad8a9cb7798c0694",
       "version_major": 2,
       "version_minor": 0
      },
      "text/plain": [
       "README.md:   0%|          | 0.00/8.07k [00:00<?, ?B/s]"
      ]
     },
     "metadata": {},
     "output_type": "display_data"
    },
    {
     "data": {
      "application/vnd.jupyter.widget-view+json": {
       "model_id": "ec55d942956c409f803e44587b2af7fa",
       "version_major": 2,
       "version_minor": 0
      },
      "text/plain": [
       "train-00000-of-00001.parquet:   0%|          | 0.00/18.6M [00:00<?, ?B/s]"
      ]
     },
     "metadata": {},
     "output_type": "display_data"
    },
    {
     "data": {
      "application/vnd.jupyter.widget-view+json": {
       "model_id": "e1578e44e0244e5db4b87c4281b957df",
       "version_major": 2,
       "version_minor": 0
      },
      "text/plain": [
       "test-00000-of-00001.parquet:   0%|          | 0.00/1.23M [00:00<?, ?B/s]"
      ]
     },
     "metadata": {},
     "output_type": "display_data"
    },
    {
     "data": {
      "application/vnd.jupyter.widget-view+json": {
       "model_id": "8d9e89aa2908409a8af09ae4cdbc3b91",
       "version_major": 2,
       "version_minor": 0
      },
      "text/plain": [
       "Generating train split:   0%|          | 0/120000 [00:00<?, ? examples/s]"
      ]
     },
     "metadata": {},
     "output_type": "display_data"
    },
    {
     "data": {
      "application/vnd.jupyter.widget-view+json": {
       "model_id": "5d753d9380a14a8ba8398e43de9e5ad5",
       "version_major": 2,
       "version_minor": 0
      },
      "text/plain": [
       "Generating test split:   0%|          | 0/7600 [00:00<?, ? examples/s]"
      ]
     },
     "metadata": {},
     "output_type": "display_data"
    },
    {
     "data": {
      "application/vnd.jupyter.widget-view+json": {
       "model_id": "5ada03640497484c8288c30a04e34911",
       "version_major": 2,
       "version_minor": 0
      },
      "text/plain": [
       "tokenizer_config.json:   0%|          | 0.00/25.0 [00:00<?, ?B/s]"
      ]
     },
     "metadata": {},
     "output_type": "display_data"
    },
    {
     "data": {
      "application/vnd.jupyter.widget-view+json": {
       "model_id": "11f56e0897a74e689589cf964878229b",
       "version_major": 2,
       "version_minor": 0
      },
      "text/plain": [
       "vocab.json:   0%|          | 0.00/899k [00:00<?, ?B/s]"
      ]
     },
     "metadata": {},
     "output_type": "display_data"
    },
    {
     "data": {
      "application/vnd.jupyter.widget-view+json": {
       "model_id": "aec7412f2bf04fe89bfdcbaf3925c940",
       "version_major": 2,
       "version_minor": 0
      },
      "text/plain": [
       "merges.txt:   0%|          | 0.00/456k [00:00<?, ?B/s]"
      ]
     },
     "metadata": {},
     "output_type": "display_data"
    },
    {
     "data": {
      "application/vnd.jupyter.widget-view+json": {
       "model_id": "91a5d285b6f24b7391fea5a03bbdbaf7",
       "version_major": 2,
       "version_minor": 0
      },
      "text/plain": [
       "tokenizer.json:   0%|          | 0.00/1.36M [00:00<?, ?B/s]"
      ]
     },
     "metadata": {},
     "output_type": "display_data"
    },
    {
     "data": {
      "application/vnd.jupyter.widget-view+json": {
       "model_id": "ac04a83380a54a65bb9cc30955731b30",
       "version_major": 2,
       "version_minor": 0
      },
      "text/plain": [
       "config.json:   0%|          | 0.00/481 [00:00<?, ?B/s]"
      ]
     },
     "metadata": {},
     "output_type": "display_data"
    },
    {
     "name": "stdout",
     "output_type": "stream",
     "text": [
      "Dataset and tokenizer loaded.\n",
      "Dataset({\n",
      "    features: ['text', 'label'],\n",
      "    num_rows: 120000\n",
      "})\n"
     ]
    }
   ],
   "source": [
    "# Load Data & Tokenizer\n",
    "print(\"Loading AG News dataset and RoBERTa tokenizer...\")\n",
    "dataset = load_dataset('ag_news', split='train')\n",
    "tokenizer = RobertaTokenizer.from_pretrained(base_model)\n",
    "\n",
    "print(\"Dataset and tokenizer loaded.\")\n",
    "print(dataset)"
   ]
  },
  {
   "cell_type": "code",
   "execution_count": 5,
   "id": "78c1c0de-284c-456e-994a-c2d6e1c797f2",
   "metadata": {},
   "outputs": [
    {
     "name": "stdout",
     "output_type": "stream",
     "text": [
      "Preprocessing function defined.\n"
     ]
    }
   ],
   "source": [
    "# Preprocessing Function\n",
    "def preprocess(examples):\n",
    "    return tokenizer(examples['text'], truncation=True, padding='max_length', max_length=512)\n",
    "\n",
    "print(\"Preprocessing function defined.\")"
   ]
  },
  {
   "cell_type": "code",
   "execution_count": 6,
   "id": "17b0fb91-bb76-4ae5-bb5d-166630ab238c",
   "metadata": {},
   "outputs": [
    {
     "name": "stdout",
     "output_type": "stream",
     "text": [
      "Tokenizing dataset...\n"
     ]
    },
    {
     "data": {
      "application/vnd.jupyter.widget-view+json": {
       "model_id": "232efb19236e45ae9f19ed08f6564d99",
       "version_major": 2,
       "version_minor": 0
      },
      "text/plain": [
       "Map:   0%|          | 0/120000 [00:00<?, ? examples/s]"
      ]
     },
     "metadata": {},
     "output_type": "display_data"
    },
    {
     "name": "stdout",
     "output_type": "stream",
     "text": [
      "Number of labels: 4, Labels: ['World', 'Sports', 'Business', 'Sci/Tech']\n",
      "Dataset tokenized and prepared.\n",
      "Dataset({\n",
      "    features: ['labels', 'input_ids', 'attention_mask'],\n",
      "    num_rows: 120000\n",
      "})\n"
     ]
    }
   ],
   "source": [
    "# Tokenize & Prepare Data\n",
    "print(\"Tokenizing dataset...\")\n",
    "# Apply tokenization, remove original text column, rename label column\n",
    "tokenized_dataset = dataset.map(preprocess, batched=True, remove_columns=[\"text\"])\n",
    "tokenized_dataset = tokenized_dataset.rename_column(\"label\", \"labels\") # Rename for Trainer compatibility\n",
    "\n",
    "# Dataset Info\n",
    "num_labels = dataset.features['label'].num_classes\n",
    "class_names = dataset.features[\"label\"].names\n",
    "print(f\"Number of labels: {num_labels}, Labels: {class_names}\")\n",
    "id2label = {i: label for i, label in enumerate(class_names)}\n",
    "label2id = {label: i for i, label in id2label.items()}\n",
    "\n",
    "# Data Collator\n",
    "# Handles dynamic padding within batches\n",
    "data_collator = DataCollatorWithPadding(tokenizer=tokenizer, return_tensors=\"pt\") # pt for PyTorch tensors\n",
    "\n",
    "print(\"Dataset tokenized and prepared.\")\n",
    "print(tokenized_dataset)"
   ]
  },
  {
   "cell_type": "code",
   "execution_count": 7,
   "id": "04a96edd-8310-4f23-b861-bc81ba837577",
   "metadata": {},
   "outputs": [
    {
     "name": "stdout",
     "output_type": "stream",
     "text": [
      "Splitting dataset into train/validation...\n",
      "Train samples: 118720, Validation samples: 1280\n"
     ]
    }
   ],
   "source": [
    "# Split Data\n",
    "print(\"Splitting dataset into train/validation...\")\n",
    "# Create a validation set (1280 samples)\n",
    "split_datasets = tokenized_dataset.train_test_split(test_size=1280, seed=42, stratify_by_column=\"labels\")\n",
    "train_dataset = split_datasets['train']\n",
    "eval_dataset = split_datasets['test']\n",
    "\n",
    "print(f\"Train samples: {len(train_dataset)}, Validation samples: {len(eval_dataset)}\")"
   ]
  },
  {
   "cell_type": "code",
   "execution_count": 8,
   "id": "17891097-dfde-45e7-b7bc-79c1527326da",
   "metadata": {},
   "outputs": [
    {
     "name": "stdout",
     "output_type": "stream",
     "text": [
      "Metrics and Evaluation functions defined.\n"
     ]
    }
   ],
   "source": [
    "# Metrics & Evaluation Function\n",
    "\n",
    "def compute_metrics(pred):\n",
    "    labels = pred.label_ids\n",
    "    preds = pred.predictions.argmax(-1)\n",
    "    accuracy = accuracy_score(labels, preds)\n",
    "    return {'accuracy': accuracy}\n",
    "\n",
    "def evaluate_model(inference_model, dataset, labelled=True, batch_size=8, data_collator=None):\n",
    "    eval_dataloader = DataLoader(dataset, batch_size=batch_size, collate_fn=data_collator)\n",
    "    device = torch.device(\"cuda\" if torch.cuda.is_available() else \"cpu\")\n",
    "    inference_model.to(device)\n",
    "    inference_model.eval() # Set model to evaluation mode\n",
    "\n",
    "    all_predictions = []\n",
    "    metric = None\n",
    "    metric_load_error = False\n",
    "\n",
    "    if labelled:\n",
    "        try:\n",
    "            metric = evaluate.load('accuracy')\n",
    "        except Exception as e:\n",
    "            print(f\"Warning: Could not load accuracy metric: {e}. Accuracy will not be computed.\")\n",
    "            metric_load_error = True\n",
    "\n",
    "    print(f\"Starting evaluation (Labelled: {labelled})...\")\n",
    "    for batch in tqdm(eval_dataloader, desc=\"Evaluating\"):\n",
    "        # Move batch tensors to the correct device\n",
    "        batch_on_device = {}\n",
    "        try:\n",
    "            for k, v in batch.items():\n",
    "                batch_on_device[k] = v.to(device) if isinstance(v, torch.Tensor) else v\n",
    "        except Exception as e:\n",
    "            print(f\"ERROR moving batch to device: {e}\")\n",
    "            continue\n",
    "\n",
    "        # Prepare inputs for the model\n",
    "        model_input_batch = {k: v for k, v in batch_on_device.items() if k != 'labels'}\n",
    "\n",
    "        # Perform inference\n",
    "        with torch.no_grad():\n",
    "            try:\n",
    "                outputs = inference_model(**model_input_batch)\n",
    "            except TypeError as e:\n",
    "                # Handle case where model might expect 'labels' even during eval\n",
    "                if 'labels' in str(e) and 'labels' in batch_on_device:\n",
    "                    try:\n",
    "                        outputs = inference_model(**batch_on_device)\n",
    "                    except Exception as e2:\n",
    "                        print(f\"ERROR: Model forward pass failed even with labels: {e2}\")\n",
    "                        continue\n",
    "                else:\n",
    "                    print(f\"ERROR: Model forward pass failed: {e}\")\n",
    "                    continue\n",
    "            except Exception as e:\n",
    "                print(f\"ERROR during model forward pass: {e}\")\n",
    "                continue\n",
    "\n",
    "        predictions = outputs.logits.argmax(dim=-1).cpu()\n",
    "        all_predictions.append(predictions)\n",
    "\n",
    "        if labelled and not metric_load_error and metric is not None and \"labels\" in batch:\n",
    "            references = batch[\"labels\"]\n",
    "            if isinstance(references, torch.Tensor):\n",
    "                references = references.cpu().numpy()\n",
    "            try:\n",
    "                metric.add_batch(predictions=predictions.numpy(), references=references)\n",
    "            except Exception as e:\n",
    "                print(f\"ERROR adding batch to metric: {e}\")\n",
    "\n",
    "    # Process results\n",
    "    if not all_predictions:\n",
    "        print(\"WARNING: No predictions generated.\")\n",
    "        return ({}, torch.tensor([])) if labelled else torch.tensor([])\n",
    "\n",
    "    all_predictions = torch.cat(all_predictions, dim=0)\n",
    "\n",
    "    if labelled:\n",
    "        eval_metric = {}\n",
    "        if not metric_load_error and metric is not None:\n",
    "            try:\n",
    "                eval_metric = metric.compute()\n",
    "                if not eval_metric:\n",
    "                    print(\"Warning: metric.compute() returned empty result.\")\n",
    "                    eval_metric = {}\n",
    "            except Exception as e:\n",
    "                print(f\"CRITICAL ERROR computing metric: {e}\")\n",
    "                eval_metric = {}\n",
    "        return eval_metric, all_predictions\n",
    "    else:\n",
    "        # Unlabelled data: return only predictions\n",
    "        return all_predictions\n",
    "\n",
    "print(\"Metrics and Evaluation functions defined.\")"
   ]
  },
  {
   "cell_type": "code",
   "execution_count": 9,
   "id": "76b31ea6-f404-43df-800e-86a869b9a2a8",
   "metadata": {},
   "outputs": [
    {
     "name": "stdout",
     "output_type": "stream",
     "text": [
      "Loading base model for fine-tuning...\n"
     ]
    },
    {
     "name": "stderr",
     "output_type": "stream",
     "text": [
      "Xet Storage is enabled for this repo, but the 'hf_xet' package is not installed. Falling back to regular HTTP download. For better performance, install the package with: `pip install huggingface_hub[hf_xet]` or `pip install hf_xet`\n"
     ]
    },
    {
     "data": {
      "application/vnd.jupyter.widget-view+json": {
       "model_id": "0724a86e938142cf8df32c52465d8b57",
       "version_major": 2,
       "version_minor": 0
      },
      "text/plain": [
       "model.safetensors:   0%|          | 0.00/499M [00:00<?, ?B/s]"
      ]
     },
     "metadata": {},
     "output_type": "display_data"
    },
    {
     "name": "stderr",
     "output_type": "stream",
     "text": [
      "Some weights of RobertaForSequenceClassification were not initialized from the model checkpoint at roberta-base and are newly initialized: ['classifier.dense.bias', 'classifier.dense.weight', 'classifier.out_proj.bias', 'classifier.out_proj.weight']\n",
      "You should probably TRAIN this model on a down-stream task to be able to use it for predictions and inference.\n"
     ]
    },
    {
     "name": "stdout",
     "output_type": "stream",
     "text": [
      "Moving base model to CUDA\n"
     ]
    },
    {
     "name": "stderr",
     "output_type": "stream",
     "text": [
      "/tmp/ipykernel_227/3826758230.py:56: FutureWarning: `tokenizer` is deprecated and will be removed in version 5.0.0 for `Trainer.__init__`. Use `processing_class` instead.\n",
      "  trainer = Trainer(\n",
      "No label_names provided for model class `PeftModelForSequenceClassification`. Since `PeftModel` hides base models input arguments, if label_names is not given, label_names can't be set automatically within `Trainer`. Note that empty label_names list will be used instead.\n"
     ]
    },
    {
     "name": "stdout",
     "output_type": "stream",
     "text": [
      "Configuring LoRA with r=4, alpha=4\n",
      "Applying PEFT (LoRA) to the base model...\n",
      "PEFT Model Configured. Trainable parameters:\n",
      "trainable params: 814,852 || all params: 125,463,560 || trainable%: 0.6495\n",
      "Training setup complete. Trainer initialized.\n"
     ]
    }
   ],
   "source": [
    "# Training Setup\n",
    "\n",
    "# 1. Load Base Model\n",
    "print(\"Loading base model for fine-tuning...\")\n",
    "model = RobertaForSequenceClassification.from_pretrained(\n",
    "    base_model,\n",
    "    num_labels=num_labels,\n",
    "    id2label=id2label,\n",
    "    label2id=label2id\n",
    ")\n",
    "if torch.cuda.is_available():\n",
    "    print(\"Moving base model to CUDA\")\n",
    "    model.to('cuda')\n",
    "else:\n",
    "    print(\"CUDA not available or disabled, using CPU.\")\n",
    "\n",
    "# 2. Configure LoRA\n",
    "print(f\"Configuring LoRA with r={fixed_rank}, alpha={fixed_alpha}\")\n",
    "peft_config = LoraConfig(\n",
    "    r=fixed_rank,\n",
    "    lora_alpha=fixed_alpha,\n",
    "    lora_dropout=0.2,\n",
    "    target_modules=[\"query\", \"key\", \"value\"],\n",
    "    bias=\"none\",\n",
    "    task_type=\"SEQ_CLS\", \n",
    ")\n",
    "\n",
    "# 3. Apply PEFT (LoRA) to the Model\n",
    "print(\"Applying PEFT (LoRA) to the base model...\")\n",
    "peft_model = get_peft_model(model, peft_config)\n",
    "print(\"PEFT Model Configured. Trainable parameters:\")\n",
    "peft_model.print_trainable_parameters() # Show number of trainable LoRA parameters\n",
    "\n",
    "# 4. Define Training Arguments\n",
    "training_args = TrainingArguments(\n",
    "    output_dir=current_output_dir,\n",
    "    report_to=\"none\",               \n",
    "    eval_strategy=\"steps\",          \n",
    "    eval_steps=200,                 \n",
    "    logging_steps=100,              \n",
    "    learning_rate=1e-5,\n",
    "    max_steps=2000,                \n",
    "    use_cpu=not torch.cuda.is_available(),\n",
    "    per_device_train_batch_size=16,\n",
    "    per_device_eval_batch_size=64,\n",
    "    optim=\"adamw_torch\",\n",
    "    load_best_model_at_end=True,    \n",
    "    metric_for_best_model=\"accuracy\",\n",
    "    greater_is_better=True,\n",
    "    save_strategy=\"steps\",          \n",
    "    save_steps=200,                 \n",
    "    save_total_limit=2              # Keep only the latest + best checkpoints\n",
    ")\n",
    "\n",
    "# 5. Initialize Trainer\n",
    "trainer = Trainer(\n",
    "    model=peft_model,\n",
    "    args=training_args,\n",
    "    compute_metrics=compute_metrics,\n",
    "    train_dataset=train_dataset,\n",
    "    eval_dataset=eval_dataset,     \n",
    "    data_collator=data_collator,\n",
    "    tokenizer=tokenizer\n",
    ")\n",
    "\n",
    "print(\"Training setup complete. Trainer initialized.\")"
   ]
  },
  {
   "cell_type": "code",
   "execution_count": 10,
   "id": "4fa313f0-43dd-4d91-aec7-2dde7ec39ab7",
   "metadata": {},
   "outputs": [
    {
     "name": "stdout",
     "output_type": "stream",
     "text": [
      "Starting training...\n"
     ]
    },
    {
     "data": {
      "text/html": [
       "\n",
       "    <div>\n",
       "      \n",
       "      <progress value='2000' max='2000' style='width:300px; height:20px; vertical-align: middle;'></progress>\n",
       "      [2000/2000 05:43, Epoch 0/1]\n",
       "    </div>\n",
       "    <table border=\"1\" class=\"dataframe\">\n",
       "  <thead>\n",
       " <tr style=\"text-align: left;\">\n",
       "      <th>Step</th>\n",
       "      <th>Training Loss</th>\n",
       "      <th>Validation Loss</th>\n",
       "      <th>Accuracy</th>\n",
       "    </tr>\n",
       "  </thead>\n",
       "  <tbody>\n",
       "    <tr>\n",
       "      <td>200</td>\n",
       "      <td>1.376900</td>\n",
       "      <td>1.373308</td>\n",
       "      <td>0.434375</td>\n",
       "    </tr>\n",
       "    <tr>\n",
       "      <td>400</td>\n",
       "      <td>1.360400</td>\n",
       "      <td>1.355043</td>\n",
       "      <td>0.483594</td>\n",
       "    </tr>\n",
       "    <tr>\n",
       "      <td>600</td>\n",
       "      <td>1.333900</td>\n",
       "      <td>1.322613</td>\n",
       "      <td>0.823438</td>\n",
       "    </tr>\n",
       "    <tr>\n",
       "      <td>800</td>\n",
       "      <td>1.272100</td>\n",
       "      <td>1.257064</td>\n",
       "      <td>0.871875</td>\n",
       "    </tr>\n",
       "    <tr>\n",
       "      <td>1000</td>\n",
       "      <td>1.156000</td>\n",
       "      <td>1.116064</td>\n",
       "      <td>0.885938</td>\n",
       "    </tr>\n",
       "    <tr>\n",
       "      <td>1200</td>\n",
       "      <td>0.973800</td>\n",
       "      <td>0.879489</td>\n",
       "      <td>0.876563</td>\n",
       "    </tr>\n",
       "    <tr>\n",
       "      <td>1400</td>\n",
       "      <td>0.717200</td>\n",
       "      <td>0.640513</td>\n",
       "      <td>0.882812</td>\n",
       "    </tr>\n",
       "    <tr>\n",
       "      <td>1600</td>\n",
       "      <td>0.592600</td>\n",
       "      <td>0.515445</td>\n",
       "      <td>0.889844</td>\n",
       "    </tr>\n",
       "    <tr>\n",
       "      <td>1800</td>\n",
       "      <td>0.525700</td>\n",
       "      <td>0.467153</td>\n",
       "      <td>0.892969</td>\n",
       "    </tr>\n",
       "    <tr>\n",
       "      <td>2000</td>\n",
       "      <td>0.512400</td>\n",
       "      <td>0.454448</td>\n",
       "      <td>0.892188</td>\n",
       "    </tr>\n",
       "  </tbody>\n",
       "</table><p>"
      ],
      "text/plain": [
       "<IPython.core.display.HTML object>"
      ]
     },
     "metadata": {},
     "output_type": "display_data"
    },
    {
     "name": "stdout",
     "output_type": "stream",
     "text": [
      "Training finished.\n",
      "Trained LoRA adapter saved to roberta_agnews_finetuned\n",
      "Plotting loss curves...\n",
      "Loss curves saved to: roberta_agnews_finetuned/loss_curves.png\n"
     ]
    },
    {
     "data": {
      "image/png": "[encoded data removed]",
      "text/plain": [
       "<Figure size 1200x600 with 1 Axes>"
      ]
     },
     "metadata": {},
     "output_type": "display_data"
    },
    {
     "name": "stdout",
     "output_type": "stream",
     "text": [
      "\n",
      "Evaluating best trained model on the validation set...\n"
     ]
    },
    {
     "data": {
      "application/vnd.jupyter.widget-view+json": {
       "model_id": "a6ff25df31174d0080f9969cf76af592",
       "version_major": 2,
       "version_minor": 0
      },
      "text/plain": [
       "Downloading builder script:   0%|          | 0.00/4.20k [00:00<?, ?B/s]"
      ]
     },
     "metadata": {},
     "output_type": "display_data"
    },
    {
     "name": "stdout",
     "output_type": "stream",
     "text": [
      "Starting evaluation (Labelled: True)...\n"
     ]
    },
    {
     "data": {
      "application/vnd.jupyter.widget-view+json": {
       "model_id": "57ee6070faad48f799fc5dfe5ef5039c",
       "version_major": 2,
       "version_minor": 0
      },
      "text/plain": [
       "Evaluating:   0%|          | 0/20 [00:00<?, ?it/s]"
      ]
     },
     "metadata": {},
     "output_type": "display_data"
    },
    {
     "name": "stdout",
     "output_type": "stream",
     "text": [
      "Final accuracy on validation set: 0.8930\n"
     ]
    }
   ],
   "source": [
    "# Training Execution & Plotting\n",
    "print(\"Starting training...\")\n",
    "final_accuracy_eval_set = float('nan')\n",
    "train_result = None\n",
    "\n",
    "try:\n",
    "    # Start training\n",
    "    train_result = trainer.train()\n",
    "    print(\"Training finished.\")\n",
    "    trainer.save_model() # Save the trained LoRA adapter\n",
    "    print(f\"Trained LoRA adapter saved to {current_output_dir}\")\n",
    "\n",
    "    # Plot Loss Curves\n",
    "    if train_result and hasattr(trainer.state, \"log_history\"):\n",
    "        print(\"Plotting loss curves...\")\n",
    "        log_history = trainer.state.log_history\n",
    "        train_steps, train_losses, eval_steps, eval_losses = [], [], [], []\n",
    "        try:\n",
    "            for log in log_history:\n",
    "                if 'loss' in log: # Training log\n",
    "                    train_steps.append(log['step'])\n",
    "                    train_losses.append(log['loss'])\n",
    "                elif 'eval_loss' in log: # Evaluation log\n",
    "                    eval_steps.append(log['step'])\n",
    "                    eval_losses.append(log['eval_loss'])\n",
    "\n",
    "            plt.figure(figsize=(12, 6))\n",
    "            if train_steps and train_losses:\n",
    "                plt.plot(train_steps, train_losses, label='Training Loss', marker='.', linestyle='-', alpha=0.7)\n",
    "            if eval_steps and eval_losses:\n",
    "                plt.plot(eval_steps, eval_losses, label='Validation Loss', marker='o', linestyle='--', alpha=0.9)\n",
    "\n",
    "            if not train_steps and not eval_steps:\n",
    "                 print(\"Warning: No loss data found in history to plot.\")\n",
    "            else:\n",
    "                plt.title('Training and Validation Loss Curves')\n",
    "                plt.xlabel('Training Steps')\n",
    "                plt.ylabel('Loss')\n",
    "                plt.legend()\n",
    "                plt.grid(True)\n",
    "                plt.tight_layout()\n",
    "                plot_path = os.path.join(current_output_dir, \"loss_curves.png\")\n",
    "                plt.savefig(plot_path)\n",
    "                print(f\"Loss curves saved to: {plot_path}\")\n",
    "                plt.show() # Display plot in notebook\n",
    "\n",
    "        except ImportError:\n",
    "             print(\"Matplotlib not found. Cannot plot loss curves. pip install matplotlib\")\n",
    "        except Exception as plot_e:\n",
    "             print(f\"Error plotting loss curves: {plot_e}\")\n",
    "    else:\n",
    "        print(\"Skipping loss curve plotting (no training result or log history).\")\n",
    "    # --- End Plotting ---\n",
    "\n",
    "    # Evaluate the best model on the validation set\n",
    "    print(\"\\nEvaluating best trained model on the validation set...\")\n",
    "    eval_metrics, _ = evaluate_model(\n",
    "        trainer.model,\n",
    "        eval_dataset,\n",
    "        labelled=True,\n",
    "        batch_size=training_args.per_device_eval_batch_size,\n",
    "        data_collator=data_collator\n",
    "    )\n",
    "    final_accuracy_eval_set = eval_metrics.get('accuracy', float('nan'))\n",
    "    print(f\"Final accuracy on validation set: {final_accuracy_eval_set:.4f}\")\n",
    "\n",
    "except Exception as e:\n",
    "    print(f\"!!! ERROR during training/evaluation: {e}\")\n",
    "    import traceback\n",
    "    traceback.print_exc()"
   ]
  },
  {
   "cell_type": "code",
   "execution_count": 11,
   "id": "ee98fd05-3206-408f-974e-2842a50f2c32",
   "metadata": {},
   "outputs": [
    {
     "name": "stdout",
     "output_type": "stream",
     "text": [
      "Cleaning up training resources...\n",
      "CUDA cache cleared.\n"
     ]
    }
   ],
   "source": [
    "# Memory Cleanup\n",
    "print(\"Cleaning up training resources...\")\n",
    "\n",
    "try:\n",
    "    del model\n",
    "    del peft_model\n",
    "    del trainer\n",
    "except NameError:\n",
    "    print(\"Some training objects might not have been initialized.\")\n",
    "\n",
    "gc.collect()\n",
    "if torch.cuda.is_available():\n",
    "    torch.cuda.empty_cache()\n",
    "    print(\"CUDA cache cleared.\")\n",
    "else:\n",
    "    print(\"CUDA not available, skipping cache clear.\")"
   ]
  },
  {
   "cell_type": "code",
   "execution_count": 12,
   "id": "a5327a5c-943a-46be-95eb-c6f3c4c0d12a",
   "metadata": {},
   "outputs": [
    {
     "name": "stdout",
     "output_type": "stream",
     "text": [
      "\n",
      "Loading best fine-tuned LoRA adapter from: roberta_agnews_finetuned\n"
     ]
    },
    {
     "name": "stderr",
     "output_type": "stream",
     "text": [
      "Some weights of RobertaForSequenceClassification were not initialized from the model checkpoint at roberta-base and are newly initialized: ['classifier.dense.bias', 'classifier.dense.weight', 'classifier.out_proj.bias', 'classifier.out_proj.weight']\n",
      "You should probably TRAIN this model on a down-stream task to be able to use it for predictions and inference.\n"
     ]
    },
    {
     "name": "stdout",
     "output_type": "stream",
     "text": [
      "PEFT adapter loaded successfully.\n",
      "Merging LoRA weights into the base model...\n",
      "Weights merged. Model is now standard RobertaForSequenceClassification.\n",
      "Moving merged model to CUDA\n"
     ]
    }
   ],
   "source": [
    "# Load Trained Model & Merge\n",
    "print(f\"\\nLoading best fine-tuned LoRA adapter from: {current_output_dir}\")\n",
    "\n",
    "try:\n",
    "    # Load the base model again\n",
    "    base_inference_model = RobertaForSequenceClassification.from_pretrained(\n",
    "        base_model, num_labels=num_labels, id2label=id2label, label2id=label2id\n",
    "    )\n",
    "\n",
    "    # Load the LoRA adapter weights onto the base model\n",
    "    inference_model = PeftModel.from_pretrained(base_inference_model, current_output_dir)\n",
    "    print(\"PEFT adapter loaded successfully.\")\n",
    "\n",
    "    # Merge LoRA weights for standard inference\n",
    "    print(\"Merging LoRA weights into the base model...\")\n",
    "    inference_model = inference_model.merge_and_unload()\n",
    "    print(\"Weights merged. Model is now standard RobertaForSequenceClassification.\")\n",
    "\n",
    "    if torch.cuda.is_available():\n",
    "        print(\"Moving merged model to CUDA\")\n",
    "        inference_model.to('cuda')\n",
    "    else:\n",
    "         print(\"CUDA not available, using CPU for merged model.\")\n",
    "\n",
    "except Exception as e:\n",
    "    print(f\"Error during model loading/merging: {e}\")\n",
    "    inference_model = None\n",
    "    import traceback\n",
    "    traceback.print_exc()"
   ]
  },
  {
   "cell_type": "code",
   "execution_count": 16,
   "id": "c77ad79a-7e05-4edd-aefc-772a4f6b5c14",
   "metadata": {},
   "outputs": [
    {
     "name": "stdout",
     "output_type": "stream",
     "text": [
      "\n",
      "Evaluating the merged model on AG News test set subset...\n",
      "Evaluating on 7600 samples from the test set.\n",
      "Starting evaluation (Labelled: True)...\n"
     ]
    },
    {
     "data": {
      "application/vnd.jupyter.widget-view+json": {
       "model_id": "dc9ea892853a4a06b9ef82ef999985ef",
       "version_major": 2,
       "version_minor": 0
      },
      "text/plain": [
       "Evaluating:   0%|          | 0/119 [00:00<?, ?it/s]"
      ]
     },
     "metadata": {},
     "output_type": "display_data"
    },
    {
     "name": "stdout",
     "output_type": "stream",
     "text": [
      "\n",
      "Accuracy on test subset: 0.8822\n"
     ]
    }
   ],
   "source": [
    "# Evaluate on Test Set\n",
    "\n",
    "if 'inference_model' in locals() and inference_model is not None:\n",
    "    print(\"\\nEvaluating the merged model on AG News test set subset...\")\n",
    "    try:\n",
    "        testset = load_dataset('ag_news', split='test')\n",
    "        tokenized_testset = testset.map(preprocess, batched=True, remove_columns=[\"text\"])\n",
    "        tokenized_testset = tokenized_testset.rename_column(\"label\", \"labels\")\n",
    "\n",
    "        subset_size = 7600\n",
    "        indices = torch.arange(subset_size)\n",
    "        tokenized_testset_sub = data_utils.Subset(tokenized_testset, indices)\n",
    "        print(f\"Evaluating on 7600 samples from the test set.\")\n",
    "\n",
    "        test_eval_metrics, _ = evaluate_model(\n",
    "            inference_model,\n",
    "            tokenized_testset_sub,\n",
    "            labelled=True,\n",
    "            batch_size=64,\n",
    "            data_collator=data_collator\n",
    "        )\n",
    "        final_accuracy_test_set = test_eval_metrics.get('accuracy', float('nan'))\n",
    "        print(f\"\\nAccuracy on test subset: {final_accuracy_test_set:.4f}\")\n",
    "\n",
    "    except Exception as e:\n",
    "        print(f\"Error during test set evaluation: {e}\")\n",
    "        import traceback\n",
    "        traceback.print_exc()\n",
    "else:\n",
    "    print(\"Skipping test set evaluation because the inference model was not loaded successfully.\")"
   ]
  },
  {
   "cell_type": "code",
   "execution_count": 14,
   "id": "e9b9bdac-8c1a-4848-a303-4927382735e1",
   "metadata": {},
   "outputs": [
    {
     "name": "stdout",
     "output_type": "stream",
     "text": [
      "\n",
      "Loading unlabelled data from: test_unlabelled.pkl\n",
      "Pickle contained a Hugging Face Dataset.\n",
      "Tokenizing unlabelled data...\n"
     ]
    },
    {
     "data": {
      "application/vnd.jupyter.widget-view+json": {
       "model_id": "90d465104cb048799670eb46172b5d49",
       "version_major": 2,
       "version_minor": 0
      },
      "text/plain": [
       "Map:   0%|          | 0/8000 [00:00<?, ? examples/s]"
      ]
     },
     "metadata": {},
     "output_type": "display_data"
    },
    {
     "name": "stdout",
     "output_type": "stream",
     "text": [
      "\n",
      "Running inference on unlabelled data...\n",
      "Starting evaluation (Labelled: False)...\n"
     ]
    },
    {
     "data": {
      "application/vnd.jupyter.widget-view+json": {
       "model_id": "8d18c7ff01124482ae03efa9e32eb32f",
       "version_major": 2,
       "version_minor": 0
      },
      "text/plain": [
       "Evaluating:   0%|          | 0/1000 [00:00<?, ?it/s]"
      ]
     },
     "metadata": {},
     "output_type": "display_data"
    },
    {
     "name": "stdout",
     "output_type": "stream",
     "text": [
      "Inference on unlabelled data finished.\n"
     ]
    }
   ],
   "source": [
    "# Inference on Unlabelled Data\n",
    "\n",
    "if 'inference_model' in locals() and inference_model is not None:\n",
    "    print(f\"\\nLoading unlabelled data from: {unlabelled_data_path}\")\n",
    "    try:\n",
    "        # Check if file exists before trying to load\n",
    "        if not os.path.exists(unlabelled_data_path):\n",
    "             raise FileNotFoundError(f\"Unlabelled data file not found at {unlabelled_data_path}\")\n",
    "\n",
    "        loaded_object = pd.read_pickle(unlabelled_data_path)\n",
    "        original_ids = None\n",
    "        unlabelled_hf_dataset = None\n",
    "\n",
    "        # Handle DataFrame or Dataset loaded from pickle\n",
    "        if isinstance(loaded_object, pd.DataFrame):\n",
    "            print(\"Pickle contained a pandas DataFrame.\")\n",
    "            if 'text' not in loaded_object.columns:\n",
    "                raise ValueError(\"Unlabelled DataFrame must contain a 'text' column.\")\n",
    "            unlabelled_hf_dataset = Dataset.from_pandas(loaded_object)\n",
    "            if 'ID' in loaded_object.columns: original_ids = loaded_object['ID'].values\n",
    "        elif isinstance(loaded_object, Dataset):\n",
    "            print(\"Pickle contained a Hugging Face Dataset.\")\n",
    "            unlabelled_hf_dataset = loaded_object\n",
    "            if 'text' not in unlabelled_hf_dataset.column_names:\n",
    "                raise ValueError(\"Unlabelled Dataset must contain a 'text' column.\")\n",
    "            if 'ID' in unlabelled_hf_dataset.column_names:\n",
    "                try: original_ids = list(unlabelled_hf_dataset['ID'])\n",
    "                except Exception: print(\"Warning: Could not extract 'ID' column reliably.\")\n",
    "        else:\n",
    "            raise TypeError(f\"Unexpected object type in pickle: {type(loaded_object)}\")\n",
    "\n",
    "        print(\"Tokenizing unlabelled data...\")\n",
    "        # Define columns to remove after tokenization\n",
    "        columns_to_remove = [col for col in unlabelled_hf_dataset.column_names if col != 'ID']\n",
    "        if 'text' not in columns_to_remove and 'text' in unlabelled_hf_dataset.column_names:\n",
    "             columns_to_remove.append('text')\n",
    "\n",
    "        tokenized_unlabelled_dataset = unlabelled_hf_dataset.map(\n",
    "            preprocess, batched=True, remove_columns=columns_to_remove\n",
    "        )\n",
    "\n",
    "        print(\"\\nRunning inference on unlabelled data...\")\n",
    "        # Get predictions (tensor) using the evaluate function in unlabelled mode\n",
    "        preds = evaluate_model(\n",
    "            inference_model,\n",
    "            tokenized_unlabelled_dataset,\n",
    "            labelled=False,\n",
    "            batch_size=8,\n",
    "            data_collator=data_collator\n",
    "        )\n",
    "        print(\"Inference on unlabelled data finished.\")\n",
    "\n",
    "    except FileNotFoundError as e:\n",
    "        print(f\"Error: {e}\")\n",
    "        preds = None \n",
    "    except Exception as e:\n",
    "        print(f\"Error during unlabelled data processing or inference: {e}\")\n",
    "        preds = None\n",
    "        import traceback\n",
    "        traceback.print_exc()\n",
    "else:\n",
    "    print(\"Skipping unlabelled data inference because the inference model was not loaded successfully.\")\n",
    "    preds = None"
   ]
  },
  {
   "cell_type": "code",
   "execution_count": 15,
   "id": "6e11a5d2-fd5e-4a5a-886a-b8b357c18329",
   "metadata": {},
   "outputs": [
    {
     "name": "stdout",
     "output_type": "stream",
     "text": [
      "\n",
      "Saving predictions...\n",
      "Generating sequential IDs for output.\n",
      "Inference complete. Predictions saved to: roberta_agnews_finetuned/lora_inference.csv\n"
     ]
    }
   ],
   "source": [
    "# Save Predictions\n",
    "\n",
    "if 'preds' in locals() and preds is not None and len(preds) > 0:\n",
    "    print(\"\\nSaving predictions...\")\n",
    "    try:\n",
    "        preds_numpy = preds.cpu().numpy()\n",
    "\n",
    "        # Prepare IDs for output CSV\n",
    "        if 'original_ids' in locals() and original_ids is not None and len(original_ids) == len(preds_numpy):\n",
    "            output_ids = original_ids\n",
    "            print(\"Using original IDs from input data.\")\n",
    "        else:\n",
    "            if 'original_ids' in locals() and original_ids is not None:\n",
    "                 print(f\"Warning: ID length mismatch or IDs not loaded. Generating sequential IDs.\")\n",
    "            else:\n",
    "                 print(\"Generating sequential IDs for output.\")\n",
    "            output_ids = range(len(preds_numpy))\n",
    "\n",
    "        # Create output DataFrame and save to CSV\n",
    "        df_output = pd.DataFrame({'ID': output_ids, 'Label': preds_numpy})\n",
    "        output_csv_path = os.path.join(current_output_dir, \"lora_inference.csv\")\n",
    "        df_output.to_csv(output_csv_path, index=False)\n",
    "        print(f\"Inference complete. Predictions saved to: {output_csv_path}\")\n",
    "\n",
    "    except Exception as e:\n",
    "        print(f\"Error during prediction saving: {e}\")\n",
    "        import traceback\n",
    "        traceback.print_exc()\n",
    "\n",
    "elif 'preds' in locals() and preds is not None and len(preds) == 0:\n",
    "    print(\"No predictions were generated, skipping saving.\")\n",
    "else:\n",
    "     print(\"Skipping prediction saving because predictions were not generated successfully.\")"
   ]
  }
 ],
 "metadata": {
  "kernelspec": {
   "display_name": "Python (myenv)",
   "language": "python",
   "name": "myenv"
  },
  "language_info": {
   "codemirror_mode": {
    "name": "ipython",
    "version": 3
   },
   "file_extension": ".py",
   "mimetype": "text/x-python",
   "name": "python",
   "nbconvert_exporter": "python",
   "pygments_lexer": "ipython3",
   "version": "3.10.12"
  }
 },
 "nbformat": 4,
 "nbformat_minor": 5
}
